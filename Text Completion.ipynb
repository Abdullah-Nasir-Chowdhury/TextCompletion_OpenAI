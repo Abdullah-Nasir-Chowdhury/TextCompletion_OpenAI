{
 "cells": [
  {
   "cell_type": "markdown",
   "id": "5188be54",
   "metadata": {},
   "source": [
    "# Setup"
   ]
  },
  {
   "cell_type": "code",
   "execution_count": 1,
   "id": "9a4586ec",
   "metadata": {},
   "outputs": [],
   "source": [
    "import openai\n",
    "import dotenv\n",
    "import os"
   ]
  },
  {
   "cell_type": "code",
   "execution_count": 2,
   "id": "b7a9500e",
   "metadata": {},
   "outputs": [],
   "source": [
    "from dotenv import main\n",
    "main.load_dotenv()\n",
    "\n",
    "openai.api_key = os.getenv(\"OPENAI_API_KEY\")"
   ]
  },
  {
   "cell_type": "code",
   "execution_count": 4,
   "id": "82e6f45f",
   "metadata": {},
   "outputs": [
    {
     "name": "stdout",
     "output_type": "stream",
     "text": [
      "{\n",
      "  \"id\": \"cmpl-8Cw69lz2puYOFwOPQ1FwNC7Mj9rjQ\",\n",
      "  \"object\": \"text_completion\",\n",
      "  \"created\": 1698093957,\n",
      "  \"model\": \"gpt-3.5-turbo-instruct\",\n",
      "  \"choices\": [\n",
      "    {\n",
      "      \"text\": \"\\n\\nYou never know what you're gonna get.\",\n",
      "      \"index\": 0,\n",
      "      \"logprobs\": null,\n",
      "      \"finish_reason\": \"stop\"\n",
      "    }\n",
      "  ],\n",
      "  \"usage\": {\n",
      "    \"prompt_tokens\": 8,\n",
      "    \"completion_tokens\": 10,\n",
      "    \"total_tokens\": 18\n",
      "  }\n",
      "}\n"
     ]
    }
   ],
   "source": [
    "response = openai.Completion.create(\n",
    "    model = \"gpt-3.5-turbo-instruct\",\n",
    "    prompt = \"Life is like a box of chocolates.\"\n",
    ")\n",
    "print(response)"
   ]
  },
  {
   "cell_type": "code",
   "execution_count": 5,
   "id": "0b14659a",
   "metadata": {},
   "outputs": [
    {
     "name": "stdout",
     "output_type": "stream",
     "text": [
      "\n",
      "\n",
      "You never know what you're gonna get.\n"
     ]
    }
   ],
   "source": [
    "print(response[\"choices\"][0][\"text\"])"
   ]
  },
  {
   "cell_type": "markdown",
   "id": "92db9375",
   "metadata": {},
   "source": [
    "### Set temperature"
   ]
  },
  {
   "cell_type": "code",
   "execution_count": null,
   "id": "395c3930",
   "metadata": {},
   "outputs": [],
   "source": [
    "response = openai.Completion.create(\n",
    "    model = \"gpt-3.5-turbo-instruct\",\n",
    "    prompt = \"Life is like a box of chocolates.\",\n",
    "    temperature = 2\n",
    ")\n",
    "print(response[\"choices\"][0][\"text\"])"
   ]
  },
  {
   "cell_type": "markdown",
   "id": "cd2154f7",
   "metadata": {},
   "source": [
    "### Set max_tokens"
   ]
  },
  {
   "cell_type": "code",
   "execution_count": null,
   "id": "d0e31793",
   "metadata": {},
   "outputs": [],
   "source": [
    "response = openai.Completion.create(\n",
    "    model = \"gpt-3.5-turbo-instruct\",\n",
    "    prompt = \"Life is like a box of chocolates.\",\n",
    "    tempertaure = 2,\n",
    "    max_tokens = 10\n",
    ")"
   ]
  },
  {
   "cell_type": "markdown",
   "id": "bd462aa4",
   "metadata": {},
   "source": [
    "## Content Transformation\n",
    "- Find and Replace \n",
    "- Summarizing \n",
    "- Copyediting "
   ]
  },
  {
   "cell_type": "code",
   "execution_count": 6,
   "id": "50546dd8",
   "metadata": {},
   "outputs": [],
   "source": [
    "prompt = f\"\"\"Update name to Tim. His pronouns are He/Him\n",
    "    \n",
    "    Sarah is a Data Analyst at hackules.co. She is currently working on a project\n",
    "\"\"\""
   ]
  },
  {
   "cell_type": "code",
   "execution_count": 7,
   "id": "49160913",
   "metadata": {},
   "outputs": [],
   "source": [
    "response = openai.Completion.create(\n",
    "    model = \"gpt-3.5-turbo-instruct\",\n",
    "    prompt = prompt,\n",
    "    temperature = 0\n",
    ")"
   ]
  },
  {
   "cell_type": "code",
   "execution_count": 8,
   "id": "a6f03eee",
   "metadata": {},
   "outputs": [
    {
     "name": "stdout",
     "output_type": "stream",
     "text": [
      "\n",
      "Tim is a Data Analyst at hackules.co. He is currently working on\n"
     ]
    }
   ],
   "source": [
    "print(response[\"choices\"][0][\"text\"])"
   ]
  },
  {
   "cell_type": "markdown",
   "id": "c150dd18",
   "metadata": {},
   "source": [
    "## Content Generation"
   ]
  },
  {
   "cell_type": "code",
   "execution_count": null,
   "id": "49b89421",
   "metadata": {},
   "outputs": [],
   "source": [
    "response = openai.Completion.create(\n",
    "    model = \"gpt-3.5-turbo-instruct\",\n",
    "    prompt = \"create a new tagline for a hotdog stand\",\n",
    "    temperature = 0\n",
    ")\n",
    "print(response[\"choices\"][0][\"text\"])"
   ]
  },
  {
   "cell_type": "markdown",
   "id": "c09b47ec",
   "metadata": {},
   "source": [
    "## Classification Tasks"
   ]
  },
  {
   "cell_type": "code",
   "execution_count": null,
   "id": "265539cf",
   "metadata": {},
   "outputs": [],
   "source": [
    "response = openai.Completion.create(\n",
    "    model = \"gpt-3.5-turbo-instruct\",\n",
    "    prompt = \"\"\"Classify the following animals into with fur and without fur: \n",
    "    polar bear, hen, penguin, panda, fish\"\"\"\n",
    "    temperature = 0\n",
    ")\n",
    "print(response[\"choices\"][0][\"text\"])"
   ]
  },
  {
   "cell_type": "markdown",
   "id": "43c1d3a0",
   "metadata": {},
   "source": [
    "## Sentiment Analysis"
   ]
  },
  {
   "cell_type": "code",
   "execution_count": null,
   "id": "8a345619",
   "metadata": {},
   "outputs": [],
   "source": [
    "response = openai.Completion.create(\n",
    "    model = \"gpt-3.5-turbo-instruct\",\n",
    "    prompt = \"\"\"Analyze the sentiment of the following comments as positive, negative and neutral\n",
    "    Also rate the sentiment on a scale of 0-9\n",
    "    \n",
    "    1. I couldn't care less about the food here.\n",
    "    2. I am very disappointed in you.\n",
    "    3. I expected better.\n",
    "    4. I am very pleased with your work.\n",
    "    5. Keep it up! You are doing great.\n",
    "    \"\"\"\n",
    ")\n",
    "print(response[\"choices\"][0][\"text\"])"
   ]
  },
  {
   "cell_type": "markdown",
   "id": "14d59d18",
   "metadata": {},
   "source": [
    "# Zero-Shot-Prompting | Single-Shot-Prompting | Few-Shot-Prompting"
   ]
  },
  {
   "cell_type": "markdown",
   "id": "9d874c3e",
   "metadata": {},
   "source": [
    "Below is an example of single shot prompting using the completions endpoint"
   ]
  },
  {
   "cell_type": "code",
   "execution_count": null,
   "id": "0301cb13",
   "metadata": {},
   "outputs": [],
   "source": [
    "response = openai.Completion.create(\n",
    "    model = \"gpt-3.5-turbo-instruct\",\n",
    "    prompt = \"\"\"\n",
    "    Analyze the sentiment of the following comments as positive, negative and neutral\n",
    "    Also rate the sentiment on a scale of 0-9\n",
    "    \n",
    "    1. I couldn't care less about the food here. // Neutral-5\n",
    "    2. I am very disappointed in you. // \n",
    "    3. I expected better. // \n",
    "    4. I am very pleased with your work. //\n",
    "    5. Keep it up! You are doing great. // \n",
    "    \"\"\"\n",
    ")\n",
    "print(response[\"choices\"][0][\"text\"])"
   ]
  },
  {
   "cell_type": "markdown",
   "id": "1fe78f35",
   "metadata": {},
   "source": [
    "Below is an example of few shot prompting using the completions endpoint"
   ]
  },
  {
   "cell_type": "code",
   "execution_count": null,
   "id": "98636c57",
   "metadata": {},
   "outputs": [],
   "source": [
    "response = openai.Completion.create(\n",
    "    model = \"gpt-3.5-turbo-instruct\",\n",
    "    prompt = \"\"\"\n",
    "    Analyze the sentiment of the following comments as positive, negative and neutral\n",
    "    Also rate the sentiment on a scale of 0-9\n",
    "    \n",
    "    1. I couldn't care less about the food here. // Neutral-5\n",
    "    2. I am very disappointed in you. // Very bad-0\n",
    "    3. I expected better. // Bad-2\n",
    "    4. I am very pleased with your work. // Very good - 9\n",
    "    5. Keep it up! You are doing great. // Very good - 9\n",
    "    \"\"\"\n",
    ")\n",
    "print(response[\"choices\"][0][\"text\"])"
   ]
  }
 ],
 "metadata": {
  "kernelspec": {
   "display_name": "Python 3 (ipykernel)",
   "language": "python",
   "name": "python3"
  },
  "language_info": {
   "codemirror_mode": {
    "name": "ipython",
    "version": 3
   },
   "file_extension": ".py",
   "mimetype": "text/x-python",
   "name": "python",
   "nbconvert_exporter": "python",
   "pygments_lexer": "ipython3",
   "version": "3.9.12"
  }
 },
 "nbformat": 4,
 "nbformat_minor": 5
}
